{
 "cells": [
  {
   "cell_type": "markdown",
   "metadata": {},
   "source": [
    "# Install the Custom Vision SDK and import the libraries"
   ]
  },
  {
   "cell_type": "code",
   "execution_count": null,
   "metadata": {},
   "outputs": [],
   "source": [
    "#!pip install azure-cognitiveservices-vision-customvision\n",
    "from azure.cognitiveservices.vision.customvision.training import CustomVisionTrainingClient\n",
    "from azure.cognitiveservices.vision.customvision.training.models import ImageFileCreateEntry\n",
    "import numpy as np"
   ]
  },
  {
   "cell_type": "markdown",
   "metadata": {},
   "source": [
    "# Create Custom Vision Project"
   ]
  },
  {
   "cell_type": "code",
   "execution_count": null,
   "metadata": {},
   "outputs": [],
   "source": [
    "# Replace with your key and endpoint\n",
    "ENDPOINT = \"https://<YourCustomVisionResouceName>.cognitiveservices.azure.com/\"\n",
    "training_key = \"<YourKeyHere>\"\n",
    "trainer = CustomVisionTrainingClient(training_key, endpoint=ENDPOINT)"
   ]
  },
  {
   "cell_type": "code",
   "execution_count": null,
   "metadata": {},
   "outputs": [],
   "source": [
    "# Create a new project\n",
    "print (\"Creating project...\")\n",
    "project = trainer.create_project(\"Bird Classification Test\")\n",
    "print(\"Project created!\")"
   ]
  },
  {
   "cell_type": "markdown",
   "metadata": {},
   "source": [
    "# Create tags list from file names"
   ]
  },
  {
   "cell_type": "code",
   "execution_count": null,
   "metadata": {},
   "outputs": [],
   "source": [
    "#Create Tag List from folders in bird directory\n",
    "import os\n",
    "os.chdir('./bird_photos')\n",
    "tags = [name for name in os.listdir('.') if os.path.isdir(name)]\n",
    "print(tags)"
   ]
  },
  {
   "cell_type": "markdown",
   "metadata": {},
   "source": [
    "# `createTag` function to create tag(s) in Azure"
   ]
  },
  {
   "cell_type": "code",
   "execution_count": null,
   "metadata": {},
   "outputs": [],
   "source": [
    "def createTag(tag):\n",
    "    result = trainer.create_tag(project.id, tag)\n",
    "    print(f'{tag} create with id: {result}')\n",
    "    return result.id\n"
   ]
  },
  {
   "cell_type": "markdown",
   "metadata": {},
   "source": [
    "# `createImageList` function to create list of images to upload"
   ]
  },
  {
   "cell_type": "code",
   "execution_count": null,
   "metadata": {},
   "outputs": [],
   "source": [
    "def createImageList(tag, tag_id):\n",
    "    #set directory to current tag\n",
    "    base_image_url = f\"./{tag}/\"\n",
    "    photo_name_list = os.listdir(base_image_url)\n",
    "    image_list = []\n",
    "    for file_name in photo_name_list:\n",
    "        with open(base_image_url+file_name, \"rb\") as image_contents:\n",
    "            image_list.append(ImageFileCreateEntry(name=base_image_url+file_name, contents=image_contents.read(), tag_ids=[tag_id]))\n",
    "    return image_list"
   ]
  },
  {
   "cell_type": "markdown",
   "metadata": {},
   "source": [
    "# `uploadImageList` function to upload list of images"
   ]
  },
  {
   "cell_type": "code",
   "execution_count": null,
   "metadata": {},
   "outputs": [],
   "source": [
    "def uploadImageList(image_list):  \n",
    "    upload_result = trainer.create_images_from_files(project.id, images=image_list)\n",
    "    if not upload_result.is_batch_successful:\n",
    "        print(\"Image batch upload failed.\")\n",
    "        for image in upload_result.images:\n",
    "            print(\"Image status: \", image.status)\n",
    "        exit(-1)"
   ]
  },
  {
   "cell_type": "markdown",
   "metadata": {},
   "source": [
    "# Loop thru tags and call each function to `createTag`, `createImageList`, then `uploadImageList` in batches of 25"
   ]
  },
  {
   "cell_type": "code",
   "execution_count": null,
   "metadata": {},
   "outputs": [],
   "source": [
    "#get images names from directory\n",
    "for tag in tags:\n",
    "    tag_id = createTag(tag)\n",
    "    print(f\"tag creation done with tag id {tag_id}\")\n",
    "    image_list = createImageList(tag, tag_id)\n",
    "    print(\"image_list created with length \" + str(len(image_list)))\n",
    "    \n",
    "    #break list into lists of 25 and upload in batches\n",
    "    for i in range(0, len(image_list), 25):\n",
    "        batch = image_list[i:i + 25]\n",
    "        print(f'Upload started for batch {i} total items {len(batch)} for tag {tag}...')\n",
    "        uploadImageList(batch)\n",
    "        print(f\"Batch {i} Image upload completed. Total uploaded {len(batch)} for tag {tag}\")"
   ]
  },
  {
   "cell_type": "markdown",
   "metadata": {},
   "source": [
    "# Train Model"
   ]
  },
  {
   "cell_type": "code",
   "execution_count": null,
   "metadata": {},
   "outputs": [],
   "source": [
    "import time\n",
    "\n",
    "print (\"Training...\")\n",
    "iteration = trainer.train_project(project.id)\n",
    "\n",
    "while (iteration.status != \"Completed\"):\n",
    "    iteration = trainer.get_iteration(project.id, iteration.id)\n",
    "    print (\"Training status: \" + iteration.status)\n",
    "    time.sleep(10)"
   ]
  },
  {
   "cell_type": "markdown",
   "metadata": {},
   "source": [
    "# Publish the trained model to an endpoint"
   ]
  },
  {
   "cell_type": "code",
   "execution_count": null,
   "metadata": {},
   "outputs": [],
   "source": [
    "# The iteration is now trained. Publish it to the project endpoint\n",
    "#The prediction_resource_id can be found in the \"<nameOfComputerVisionResource>-Prediction\" resource in the portal\n",
    "#Click on the resource then select the \"properties\" from the left nav. Copy the \"Resource ID\" and paste below.\n",
    "prediction_resource_id = '/subscriptions/<subscription_id>/resourceGroups/CustomVision/providers/Microsoft.CognitiveServices/accounts/<nameOfComputerVisionResource>-Prediction'\n",
    "trainer.publish_iteration(project.id, iteration.id, iteration.name, prediction_resource_id)\n",
    "print (\"Done!\")"
   ]
  },
  {
   "cell_type": "markdown",
   "metadata": {},
   "source": [
    "# Test the published endpoint"
   ]
  },
  {
   "cell_type": "code",
   "execution_count": null,
   "metadata": {},
   "outputs": [],
   "source": [
    "from azure.cognitiveservices.vision.customvision.prediction import CustomVisionPredictionClient\n",
    "\n",
    "# Now there is a trained endpoint that can be used to make a prediction\n",
    "prediction_key = \"<YourKeyHere>\"\n",
    "endpoint = \"https://<UpdateWithYourEndpoint>-prediction.cognitiveservices.azure.com/\"\n",
    "base_image_url = \"./\"\n",
    "# Example of default iteration name would be \"Iteration1\"\n",
    "publish_iteration_name = \"<YourIterationNameHere>\"\n",
    "# You can find the project id in the settings of the custom vision project in the portal.\n",
    "project_id = \"<YourProjectIdHere>\"\n",
    "\n",
    "predictor = CustomVisionPredictionClient(prediction_key, endpoint=endpoint)\n",
    "\n",
    "with open(base_image_url + \"bird_photos/American Crow/0ee2572a87514c3f97ff20b5d3eb9966.jpg\", \"rb\") as image_contents:\n",
    "    results = predictor.classify_image(\n",
    "        project_id, publish_iteration_name, image_contents.read())\n",
    "\n",
    "    # Display the results.\n",
    "    for prediction in results.predictions:\n",
    "        print(\"\\t\" + prediction.tag_name +\n",
    "              \": {0:.2f}%\".format(prediction.probability * 100))"
   ]
  },
  {
   "cell_type": "code",
   "execution_count": null,
   "metadata": {},
   "outputs": [],
   "source": []
  }
 ],
 "metadata": {
  "kernelspec": {
   "display_name": "Python 3",
   "language": "python",
   "name": "python3"
  },
  "language_info": {
   "codemirror_mode": {
    "name": "ipython",
    "version": 3
   },
   "file_extension": ".py",
   "mimetype": "text/x-python",
   "name": "python",
   "nbconvert_exporter": "python",
   "pygments_lexer": "ipython3",
   "version": "3.7.1"
  }
 },
 "nbformat": 4,
 "nbformat_minor": 2
}
