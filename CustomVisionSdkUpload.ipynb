{
 "cells": [
  {
   "cell_type": "markdown",
   "metadata": {},
   "source": [
    "# Install the Custom Vision SDK and import the libraries"
   ]
  },
  {
   "cell_type": "code",
   "execution_count": 27,
   "metadata": {},
   "outputs": [],
   "source": [
    "#!pip install azure-cognitiveservices-vision-customvision\n",
    "from azure.cognitiveservices.vision.customvision.training import CustomVisionTrainingClient\n",
    "from azure.cognitiveservices.vision.customvision.training.models import ImageFileCreateEntry\n",
    "import numpy as np"
   ]
  },
  {
   "cell_type": "markdown",
   "metadata": {},
   "source": [
    "# Create Custom Vision Project"
   ]
  },
  {
   "cell_type": "code",
   "execution_count": null,
   "metadata": {},
   "outputs": [],
   "source": [
    "# Replace with your key and endpoint\n",
    "ENDPOINT = \"..........................\"\n",
    "training_key = \"<............................>\"\n",
    "trainer = CustomVisionTrainingClient(training_key, endpoint=ENDPOINT)"
   ]
  },
  {
   "cell_type": "code",
   "execution_count": 32,
   "metadata": {},
   "outputs": [
    {
     "name": "stdout",
     "output_type": "stream",
     "text": [
      "Creating project...\n"
     ]
    },
    {
     "ename": "KeyError",
     "evalue": "'Endpoint'",
     "output_type": "error",
     "traceback": [
      "\u001b[1;31m---------------------------------------------------------------------------\u001b[0m",
      "\u001b[1;31mKeyError\u001b[0m                                  Traceback (most recent call last)",
      "Cell \u001b[1;32mIn[32], line 3\u001b[0m\n\u001b[0;32m      1\u001b[0m \u001b[38;5;66;03m# Create a new project\u001b[39;00m\n\u001b[0;32m      2\u001b[0m \u001b[38;5;28mprint\u001b[39m (\u001b[38;5;124m\"\u001b[39m\u001b[38;5;124mCreating project...\u001b[39m\u001b[38;5;124m\"\u001b[39m)\n\u001b[1;32m----> 3\u001b[0m project \u001b[38;5;241m=\u001b[39m trainer\u001b[38;5;241m.\u001b[39mcreate_project(\u001b[38;5;124m\"\u001b[39m\u001b[38;5;124mBird Classification Test\u001b[39m\u001b[38;5;124m\"\u001b[39m)\n\u001b[0;32m      4\u001b[0m \u001b[38;5;28mprint\u001b[39m(\u001b[38;5;124m\"\u001b[39m\u001b[38;5;124mProject created!\u001b[39m\u001b[38;5;124m\"\u001b[39m)\n",
      "File \u001b[1;32mc:\\Users\\ADMIN\\anaconda3\\Lib\\site-packages\\azure\\cognitiveservices\\vision\\customvision\\training\\operations\\_custom_vision_training_client_operations.py:246\u001b[0m, in \u001b[0;36mCustomVisionTrainingClientOperationsMixin.create_project\u001b[1;34m(self, name, description, domain_id, classification_type, target_export_platforms, export_model_container_uri, notification_queue_uri, custom_headers, raw, **operation_config)\u001b[0m\n\u001b[0;32m    243\u001b[0m     body_content \u001b[38;5;241m=\u001b[39m \u001b[38;5;28;01mNone\u001b[39;00m\n\u001b[0;32m    245\u001b[0m \u001b[38;5;66;03m# Construct and send request\u001b[39;00m\n\u001b[1;32m--> 246\u001b[0m request \u001b[38;5;241m=\u001b[39m \u001b[38;5;28mself\u001b[39m\u001b[38;5;241m.\u001b[39m_client\u001b[38;5;241m.\u001b[39mpost(url, query_parameters, header_parameters, body_content)\n\u001b[0;32m    247\u001b[0m response \u001b[38;5;241m=\u001b[39m \u001b[38;5;28mself\u001b[39m\u001b[38;5;241m.\u001b[39m_client\u001b[38;5;241m.\u001b[39msend(request, stream\u001b[38;5;241m=\u001b[39m\u001b[38;5;28;01mFalse\u001b[39;00m, \u001b[38;5;241m*\u001b[39m\u001b[38;5;241m*\u001b[39moperation_config)\n\u001b[0;32m    249\u001b[0m \u001b[38;5;28;01mif\u001b[39;00m response\u001b[38;5;241m.\u001b[39mstatus_code \u001b[38;5;129;01mnot\u001b[39;00m \u001b[38;5;129;01min\u001b[39;00m [\u001b[38;5;241m200\u001b[39m]:\n",
      "File \u001b[1;32mc:\\Users\\ADMIN\\anaconda3\\Lib\\site-packages\\msrest\\service_client.py:193\u001b[0m, in \u001b[0;36m_ServiceClientCore.post\u001b[1;34m(self, url, params, headers, content, form_content)\u001b[0m\n\u001b[0;32m    184\u001b[0m \u001b[38;5;28;01mdef\u001b[39;00m \u001b[38;5;21mpost\u001b[39m(\u001b[38;5;28mself\u001b[39m, url, params\u001b[38;5;241m=\u001b[39m\u001b[38;5;28;01mNone\u001b[39;00m, headers\u001b[38;5;241m=\u001b[39m\u001b[38;5;28;01mNone\u001b[39;00m, content\u001b[38;5;241m=\u001b[39m\u001b[38;5;28;01mNone\u001b[39;00m, form_content\u001b[38;5;241m=\u001b[39m\u001b[38;5;28;01mNone\u001b[39;00m):\n\u001b[0;32m    185\u001b[0m     \u001b[38;5;66;03m# type: (str, Optional[Dict[str, str]], Optional[Dict[str, str]], Any, Optional[Dict[str, Any]]) -> ClientRequest\u001b[39;00m\n\u001b[0;32m    186\u001b[0m \u001b[38;5;250m    \u001b[39m\u001b[38;5;124;03m\"\"\"Create a POST request object.\u001b[39;00m\n\u001b[0;32m    187\u001b[0m \n\u001b[0;32m    188\u001b[0m \u001b[38;5;124;03m    :param str url: The request URL.\u001b[39;00m\n\u001b[1;32m   (...)\u001b[0m\n\u001b[0;32m    191\u001b[0m \u001b[38;5;124;03m    :param dict form_content: Form content\u001b[39;00m\n\u001b[0;32m    192\u001b[0m \u001b[38;5;124;03m    \"\"\"\u001b[39;00m\n\u001b[1;32m--> 193\u001b[0m     request \u001b[38;5;241m=\u001b[39m \u001b[38;5;28mself\u001b[39m\u001b[38;5;241m.\u001b[39m_request(\u001b[38;5;124m'\u001b[39m\u001b[38;5;124mPOST\u001b[39m\u001b[38;5;124m'\u001b[39m, url, params, headers, content, form_content)\n\u001b[0;32m    194\u001b[0m     \u001b[38;5;28;01mreturn\u001b[39;00m request\n",
      "File \u001b[1;32mc:\\Users\\ADMIN\\anaconda3\\Lib\\site-packages\\msrest\\service_client.py:108\u001b[0m, in \u001b[0;36m_ServiceClientCore._request\u001b[1;34m(self, method, url, params, headers, content, form_content)\u001b[0m\n\u001b[0;32m     99\u001b[0m \u001b[38;5;28;01mdef\u001b[39;00m \u001b[38;5;21m_request\u001b[39m(\u001b[38;5;28mself\u001b[39m, method, url, params, headers, content, form_content):\n\u001b[0;32m    100\u001b[0m     \u001b[38;5;66;03m# type: (str, str, Optional[Dict[str, str]], Optional[Dict[str, str]], Any, Optional[Dict[str, Any]]) -> ClientRequest\u001b[39;00m\n\u001b[0;32m    101\u001b[0m \u001b[38;5;250m    \u001b[39m\u001b[38;5;124;03m\"\"\"Create ClientRequest object.\u001b[39;00m\n\u001b[0;32m    102\u001b[0m \n\u001b[0;32m    103\u001b[0m \u001b[38;5;124;03m    :param str url: URL for the request.\u001b[39;00m\n\u001b[1;32m   (...)\u001b[0m\n\u001b[0;32m    106\u001b[0m \u001b[38;5;124;03m    :param dict form_content: Form content\u001b[39;00m\n\u001b[0;32m    107\u001b[0m \u001b[38;5;124;03m    \"\"\"\u001b[39;00m\n\u001b[1;32m--> 108\u001b[0m     request \u001b[38;5;241m=\u001b[39m ClientRequest(method, \u001b[38;5;28mself\u001b[39m\u001b[38;5;241m.\u001b[39mformat_url(url))\n\u001b[0;32m    110\u001b[0m     \u001b[38;5;28;01mif\u001b[39;00m params:\n\u001b[0;32m    111\u001b[0m         request\u001b[38;5;241m.\u001b[39mformat_parameters(params)\n",
      "File \u001b[1;32mc:\\Users\\ADMIN\\anaconda3\\Lib\\site-packages\\msrest\\service_client.py:155\u001b[0m, in \u001b[0;36m_ServiceClientCore.format_url\u001b[1;34m(self, url, **kwargs)\u001b[0m\n\u001b[0;32m    153\u001b[0m \u001b[38;5;28;01mif\u001b[39;00m \u001b[38;5;129;01mnot\u001b[39;00m parsed\u001b[38;5;241m.\u001b[39mscheme \u001b[38;5;129;01mor\u001b[39;00m \u001b[38;5;129;01mnot\u001b[39;00m parsed\u001b[38;5;241m.\u001b[39mnetloc:\n\u001b[0;32m    154\u001b[0m     url \u001b[38;5;241m=\u001b[39m url\u001b[38;5;241m.\u001b[39mlstrip(\u001b[38;5;124m'\u001b[39m\u001b[38;5;124m/\u001b[39m\u001b[38;5;124m'\u001b[39m)\n\u001b[1;32m--> 155\u001b[0m     base \u001b[38;5;241m=\u001b[39m \u001b[38;5;28mself\u001b[39m\u001b[38;5;241m.\u001b[39mconfig\u001b[38;5;241m.\u001b[39mbase_url\u001b[38;5;241m.\u001b[39mformat(\u001b[38;5;241m*\u001b[39m\u001b[38;5;241m*\u001b[39mkwargs)\u001b[38;5;241m.\u001b[39mrstrip(\u001b[38;5;124m'\u001b[39m\u001b[38;5;124m/\u001b[39m\u001b[38;5;124m'\u001b[39m)\n\u001b[0;32m    156\u001b[0m     url \u001b[38;5;241m=\u001b[39m urljoin(base \u001b[38;5;241m+\u001b[39m \u001b[38;5;124m'\u001b[39m\u001b[38;5;124m/\u001b[39m\u001b[38;5;124m'\u001b[39m, url)\n\u001b[0;32m    157\u001b[0m \u001b[38;5;28;01mreturn\u001b[39;00m url\n",
      "\u001b[1;31mKeyError\u001b[0m: 'Endpoint'"
     ]
    }
   ],
   "source": [
    "# Create a new project\n",
    "print (\"Creating project...\")\n",
    "project = trainer.create_project(\"Bird Classification Test\")\n",
    "print(\"Project created!\")"
   ]
  },
  {
   "cell_type": "markdown",
   "metadata": {},
   "source": [
    "# Create tags list from file names"
   ]
  },
  {
   "cell_type": "code",
   "execution_count": null,
   "metadata": {},
   "outputs": [],
   "source": [
    "#Create Tag List from folders in bird directory\n",
    "import os\n",
    "os.chdir('./bird_photos')\n",
    "tags = [name for name in os.listdir('.') if os.path.isdir(name)]\n",
    "print(tags)"
   ]
  },
  {
   "cell_type": "markdown",
   "metadata": {},
   "source": [
    "# `createTag` function to create tag(s) in Azure"
   ]
  },
  {
   "cell_type": "code",
   "execution_count": null,
   "metadata": {},
   "outputs": [],
   "source": [
    "def createTag(tag):\n",
    "    result = trainer.create_tag(project.id, tag)\n",
    "    print(f'{tag} create with id: {result}')\n",
    "    return result.id\n"
   ]
  },
  {
   "cell_type": "markdown",
   "metadata": {},
   "source": [
    "# `createImageList` function to create list of images to upload"
   ]
  },
  {
   "cell_type": "code",
   "execution_count": null,
   "metadata": {},
   "outputs": [],
   "source": [
    "def createImageList(tag, tag_id):\n",
    "    #set directory to current tag\n",
    "    base_image_url = f\"./{tag}/\"\n",
    "    photo_name_list = os.listdir(base_image_url)\n",
    "    image_list = []\n",
    "    for file_name in photo_name_list:\n",
    "        with open(base_image_url+file_name, \"rb\") as image_contents:\n",
    "            image_list.append(ImageFileCreateEntry(name=base_image_url+file_name, contents=image_contents.read(), tag_ids=[tag_id]))\n",
    "    return image_list"
   ]
  },
  {
   "cell_type": "markdown",
   "metadata": {},
   "source": [
    "# `uploadImageList` function to upload list of images"
   ]
  },
  {
   "cell_type": "code",
   "execution_count": null,
   "metadata": {},
   "outputs": [],
   "source": [
    "def uploadImageList(image_list):  \n",
    "    upload_result = trainer.create_images_from_files(project.id, images=image_list)\n",
    "    if not upload_result.is_batch_successful:\n",
    "        print(\"Image batch upload failed.\")\n",
    "        for image in upload_result.images:\n",
    "            print(\"Image status: \", image.status)\n",
    "        exit(-1)"
   ]
  },
  {
   "cell_type": "markdown",
   "metadata": {},
   "source": [
    "# Loop thru tags and call each function to `createTag`, `createImageList`, then `uploadImageList` in batches of 25"
   ]
  },
  {
   "cell_type": "code",
   "execution_count": null,
   "metadata": {},
   "outputs": [],
   "source": [
    "#get images names from directory\n",
    "for tag in tags:\n",
    "    tag_id = createTag(tag)\n",
    "    print(f\"tag creation done with tag id {tag_id}\")\n",
    "    image_list = createImageList(tag, tag_id)\n",
    "    print(\"image_list created with length \" + str(len(image_list)))\n",
    "    \n",
    "    #break list into lists of 25 and upload in batches\n",
    "    for i in range(0, len(image_list), 25):\n",
    "        batch = image_list[i:i + 25]\n",
    "        print(f'Upload started for batch {i} total items {len(batch)} for tag {tag}...')\n",
    "        uploadImageList(batch)\n",
    "        print(f\"Batch {i} Image upload completed. Total uploaded {len(batch)} for tag {tag}\")"
   ]
  },
  {
   "cell_type": "markdown",
   "metadata": {},
   "source": [
    "# Train Model"
   ]
  },
  {
   "cell_type": "code",
   "execution_count": null,
   "metadata": {},
   "outputs": [],
   "source": [
    "import time\n",
    "\n",
    "print (\"Training...\")\n",
    "iteration = trainer.train_project(project.id)\n",
    "\n",
    "while (iteration.status != \"Completed\"):\n",
    "    iteration = trainer.get_iteration(project.id, iteration.id)\n",
    "    print (\"Training status: \" + iteration.status)\n",
    "    time.sleep(10)"
   ]
  },
  {
   "cell_type": "markdown",
   "metadata": {},
   "source": [
    "# Publish the trained model to an endpoint"
   ]
  },
  {
   "cell_type": "code",
   "execution_count": null,
   "metadata": {},
   "outputs": [],
   "source": [
    "# The iteration is now trained. Publish it to the project endpoint\n",
    "#The prediction_resource_id can be found in the \"<nameOfComputerVisionResource>-Prediction\" resource in the portal\n",
    "#Click on the resource then select the \"properties\" from the left nav. Copy the \"Resource ID\" and paste below.\n",
    "prediction_resource_id = '/subscriptions/<subscription_id>/resourceGroups/CustomVision/providers/Microsoft.CognitiveServices/accounts/<nameOfComputerVisionResource>-Prediction'\n",
    "trainer.publish_iteration(project.id, iteration.id, iteration.name, prediction_resource_id)\n",
    "print (\"Done!\")"
   ]
  },
  {
   "cell_type": "markdown",
   "metadata": {},
   "source": [
    "# Test the published endpoint"
   ]
  },
  {
   "cell_type": "code",
   "execution_count": null,
   "metadata": {},
   "outputs": [],
   "source": [
    "from azure.cognitiveservices.vision.customvision.prediction import CustomVisionPredictionClient\n",
    "\n",
    "# Now there is a trained endpoint that can be used to make a prediction\n",
    "prediction_key = \"<YourKeyHere>\"\n",
    "endpoint = \"https://<UpdateWithYourEndpoint>-prediction.cognitiveservices.azure.com/\"\n",
    "base_image_url = \"./\"\n",
    "# Example of default iteration name would be \"Iteration1\"\n",
    "publish_iteration_name = \"<YourIterationNameHere>\"\n",
    "# You can find the project id in the settings of the custom vision project in the portal.\n",
    "project_id = \"<YourProjectIdHere>\"\n",
    "\n",
    "predictor = CustomVisionPredictionClient(prediction_key, endpoint=endpoint)\n",
    "\n",
    "with open(base_image_url + \"bird_photos/American Crow/0ee2572a87514c3f97ff20b5d3eb9966.jpg\", \"rb\") as image_contents:\n",
    "    results = predictor.classify_image(\n",
    "        project_id, publish_iteration_name, image_contents.read())\n",
    "\n",
    "    # Display the results.\n",
    "    for prediction in results.predictions:\n",
    "        print(\"\\t\" + prediction.tag_name +\n",
    "              \": {0:.2f}%\".format(prediction.probability * 100))"
   ]
  },
  {
   "cell_type": "code",
   "execution_count": null,
   "metadata": {},
   "outputs": [],
   "source": []
  }
 ],
 "metadata": {
  "kernelspec": {
   "display_name": "base",
   "language": "python",
   "name": "python3"
  },
  "language_info": {
   "codemirror_mode": {
    "name": "ipython",
    "version": 3
   },
   "file_extension": ".py",
   "mimetype": "text/x-python",
   "name": "python",
   "nbconvert_exporter": "python",
   "pygments_lexer": "ipython3",
   "version": "3.12.7"
  }
 },
 "nbformat": 4,
 "nbformat_minor": 2
}
